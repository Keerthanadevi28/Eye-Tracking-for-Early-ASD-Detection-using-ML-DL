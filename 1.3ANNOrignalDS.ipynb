{
 "cells": [
  {
   "cell_type": "code",
   "execution_count": 1,
   "metadata": {},
   "outputs": [],
   "source": [
    "#Load and preprocess\n",
    "import os\n",
    "import cv2\n",
    "import numpy as np\n",
    "from sklearn.decomposition import PCA\n",
    "import tensorflow as tf\n",
    "from tensorflow.keras.models import Sequential\n",
    "from tensorflow.keras.layers import Dense\n",
    "from tensorflow.keras.optimizers import Adam\n",
    "from tensorflow.keras.layers import Dropout\n",
    "\n",
    "\n",
    "def load_images_from_folder(folder):\n",
    "    images = []\n",
    "    for filename in os.listdir(folder):\n",
    "        if filename.endswith(\".png\"):\n",
    "            img = cv2.imread(os.path.join(folder, filename), cv2.IMREAD_GRAYSCALE)\n",
    "            if img is not None:\n",
    "                images.append(img)\n",
    "    return images"
   ]
  },
  {
   "cell_type": "code",
   "execution_count": 2,
   "metadata": {},
   "outputs": [],
   "source": [
    "#Load the images and preprocess them (resize, flatten, and normalize)\n",
    "folder_path_class1 = r'C:\\Users\\786me\\Desktop\\FinalYearProject\\ASDScanPath\\Dataset\\Orignal\\Control'\n",
    "folder_path_class2 = r'C:\\Users\\786me\\Desktop\\FinalYearProject\\ASDScanPath\\Dataset\\Orignal\\Patient'\n",
    "\n",
    "# Load images from each class folder\n",
    "images_class1 = load_images_from_folder(folder_path_class1)\n",
    "images_class2 = load_images_from_folder(folder_path_class2)\n",
    "\n",
    "# Assign labels to images (0 for class1, 1 for class2)\n",
    "labels_class1 = [0] * len(images_class1)\n",
    "labels_class2 = [1] * len(images_class2)\n",
    "\n",
    "# Resize the images to a consistent size (e.g., 64x64)\n",
    "resize_dim = (224, 224)\n",
    "resized_images_class1 = [cv2.resize(img, resize_dim) for img in images_class1]\n",
    "resized_images_class2 = [cv2.resize(img, resize_dim) for img in images_class2]\n",
    "\n",
    "# Flatten and normalize the images into 1D arrays\n",
    "flattened_images_class1 = [img.flatten() / 255.0 for img in resized_images_class1]\n",
    "flattened_images_class2 = [img.flatten() / 255.0 for img in resized_images_class2]\n",
    "\n",
    "# Combine the image data and labels\n",
    "X = np.vstack((flattened_images_class1, flattened_images_class2))\n",
    "y = np.hstack((labels_class1, labels_class2))"
   ]
  },
  {
   "cell_type": "code",
   "execution_count": 3,
   "metadata": {},
   "outputs": [
    {
     "name": "stdout",
     "output_type": "stream",
     "text": [
      "Optimal number of components for 97.0% explained variance: 447\n"
     ]
    }
   ],
   "source": [
    "def optimal_n_components(data, explained_variance_threshold):\n",
    "    pca = PCA()\n",
    "    pca.fit(data)\n",
    "    cumulative_explained_variance = np.cumsum(pca.explained_variance_ratio_)\n",
    "    \n",
    "    optimal_n = np.where(cumulative_explained_variance >= explained_variance_threshold)[0][0] + 1\n",
    "    \n",
    "    return optimal_n\n",
    "\n",
    "explained_variance_threshold = 0.97\n",
    "n_components = optimal_n_components(X, explained_variance_threshold)\n",
    "\n",
    "print(f'Optimal number of components for {explained_variance_threshold*100}% explained variance: {n_components}')"
   ]
  },
  {
   "cell_type": "code",
   "execution_count": 4,
   "metadata": {},
   "outputs": [],
   "source": [
    "pca = PCA(n_components=n_components)\n",
    "X_pca = pca.fit_transform(X)"
   ]
  },
  {
   "cell_type": "code",
   "execution_count": 5,
   "metadata": {},
   "outputs": [
    {
     "name": "stdout",
     "output_type": "stream",
     "text": [
      "Model: \"sequential\"\n",
      "_________________________________________________________________\n",
      " Layer (type)                Output Shape              Param #   \n",
      "=================================================================\n",
      " dense (Dense)               (None, 500)               224000    \n",
      "                                                                 \n",
      " dropout (Dropout)           (None, 500)               0         \n",
      "                                                                 \n",
      " dense_1 (Dense)             (None, 16)                8016      \n",
      "                                                                 \n",
      " dropout_1 (Dropout)         (None, 16)                0         \n",
      "                                                                 \n",
      " dense_2 (Dense)             (None, 1)                 17        \n",
      "                                                                 \n",
      "=================================================================\n",
      "Total params: 232,033\n",
      "Trainable params: 232,033\n",
      "Non-trainable params: 0\n",
      "_________________________________________________________________\n"
     ]
    }
   ],
   "source": [
    "# Create a simple ANN model\n",
    "def create_ann_model(input_dim):\n",
    "    model = Sequential()\n",
    "    model.add(Dense(500, input_dim=input_dim, activation='relu'))\n",
    "    model.add(Dropout(0.1))\n",
    "    \n",
    "    model.add(Dense(16, activation='relu'))\n",
    "    model.add(Dropout(0.5))\n",
    "    model.add(Dense(1, activation='sigmoid'))\n",
    "    return model\n",
    "\n",
    "# Define the input dimension based on the number of PCA components\n",
    "input_dim = X_pca.shape[1]\n",
    "\n",
    "# Create the ANN model\n",
    "ann_model = create_ann_model(input_dim)\n",
    "\n",
    "# Compile the model\n",
    "ann_model.compile(loss='binary_crossentropy', optimizer=Adam(learning_rate=0.0001), metrics=['accuracy'])\n",
    "ann_model.summary()\n"
   ]
  },
  {
   "cell_type": "code",
   "execution_count": 6,
   "metadata": {},
   "outputs": [],
   "source": [
    "#split the dataset into training and testing sets\n",
    "from sklearn.model_selection import train_test_split\n",
    "X_train, X_test, y_train, y_test = train_test_split(X_pca, y, test_size=0.2, random_state=42)"
   ]
  },
  {
   "cell_type": "code",
   "execution_count": 7,
   "metadata": {},
   "outputs": [
    {
     "name": "stdout",
     "output_type": "stream",
     "text": [
      "Epoch 1/30\n",
      "22/22 [==============================] - 1s 14ms/step - loss: 0.6980 - accuracy: 0.5759 - val_loss: 0.6906 - val_accuracy: 0.5795\n",
      "Epoch 2/30\n",
      "22/22 [==============================] - 0s 5ms/step - loss: 0.6864 - accuracy: 0.6074 - val_loss: 0.6876 - val_accuracy: 0.5795\n",
      "Epoch 3/30\n",
      "22/22 [==============================] - 0s 5ms/step - loss: 0.6801 - accuracy: 0.6160 - val_loss: 0.6848 - val_accuracy: 0.5909\n",
      "Epoch 4/30\n",
      "22/22 [==============================] - 0s 5ms/step - loss: 0.6673 - accuracy: 0.6590 - val_loss: 0.6817 - val_accuracy: 0.6136\n",
      "Epoch 5/30\n",
      "22/22 [==============================] - 0s 5ms/step - loss: 0.6592 - accuracy: 0.6934 - val_loss: 0.6782 - val_accuracy: 0.6136\n",
      "Epoch 6/30\n",
      "22/22 [==============================] - 0s 5ms/step - loss: 0.6457 - accuracy: 0.7106 - val_loss: 0.6744 - val_accuracy: 0.6250\n",
      "Epoch 7/30\n",
      "22/22 [==============================] - 0s 5ms/step - loss: 0.6416 - accuracy: 0.7192 - val_loss: 0.6704 - val_accuracy: 0.6477\n",
      "Epoch 8/30\n",
      "22/22 [==============================] - 0s 6ms/step - loss: 0.6283 - accuracy: 0.7765 - val_loss: 0.6662 - val_accuracy: 0.6477\n",
      "Epoch 9/30\n",
      "22/22 [==============================] - 0s 7ms/step - loss: 0.6154 - accuracy: 0.7708 - val_loss: 0.6621 - val_accuracy: 0.6705\n",
      "Epoch 10/30\n",
      "22/22 [==============================] - 0s 6ms/step - loss: 0.6123 - accuracy: 0.7736 - val_loss: 0.6574 - val_accuracy: 0.6705\n",
      "Epoch 11/30\n",
      "22/22 [==============================] - 0s 5ms/step - loss: 0.6011 - accuracy: 0.7708 - val_loss: 0.6525 - val_accuracy: 0.6705\n",
      "Epoch 12/30\n",
      "22/22 [==============================] - 0s 6ms/step - loss: 0.5775 - accuracy: 0.8080 - val_loss: 0.6476 - val_accuracy: 0.6705\n",
      "Epoch 13/30\n",
      "22/22 [==============================] - 0s 5ms/step - loss: 0.5671 - accuracy: 0.8109 - val_loss: 0.6428 - val_accuracy: 0.6932\n",
      "Epoch 14/30\n",
      "22/22 [==============================] - 0s 5ms/step - loss: 0.5538 - accuracy: 0.8338 - val_loss: 0.6378 - val_accuracy: 0.7045\n",
      "Epoch 15/30\n",
      "22/22 [==============================] - 0s 5ms/step - loss: 0.5410 - accuracy: 0.8453 - val_loss: 0.6322 - val_accuracy: 0.7045\n",
      "Epoch 16/30\n",
      "22/22 [==============================] - 0s 5ms/step - loss: 0.5450 - accuracy: 0.8195 - val_loss: 0.6271 - val_accuracy: 0.7273\n",
      "Epoch 17/30\n",
      "22/22 [==============================] - 0s 5ms/step - loss: 0.5207 - accuracy: 0.8453 - val_loss: 0.6215 - val_accuracy: 0.7273\n",
      "Epoch 18/30\n",
      "22/22 [==============================] - 0s 5ms/step - loss: 0.5058 - accuracy: 0.8711 - val_loss: 0.6167 - val_accuracy: 0.7159\n",
      "Epoch 19/30\n",
      "22/22 [==============================] - 0s 6ms/step - loss: 0.4886 - accuracy: 0.8768 - val_loss: 0.6111 - val_accuracy: 0.7159\n",
      "Epoch 20/30\n",
      "22/22 [==============================] - 0s 6ms/step - loss: 0.4784 - accuracy: 0.8825 - val_loss: 0.6058 - val_accuracy: 0.7159\n",
      "Epoch 21/30\n",
      "22/22 [==============================] - 0s 6ms/step - loss: 0.4634 - accuracy: 0.8854 - val_loss: 0.6009 - val_accuracy: 0.7045\n",
      "Epoch 22/30\n",
      "22/22 [==============================] - 0s 6ms/step - loss: 0.4471 - accuracy: 0.9054 - val_loss: 0.5965 - val_accuracy: 0.7045\n",
      "Epoch 23/30\n",
      "22/22 [==============================] - 0s 7ms/step - loss: 0.4334 - accuracy: 0.9226 - val_loss: 0.5920 - val_accuracy: 0.7045\n",
      "Epoch 24/30\n",
      "22/22 [==============================] - 0s 6ms/step - loss: 0.4182 - accuracy: 0.9341 - val_loss: 0.5873 - val_accuracy: 0.7045\n",
      "Epoch 25/30\n",
      "22/22 [==============================] - 0s 5ms/step - loss: 0.3948 - accuracy: 0.9312 - val_loss: 0.5829 - val_accuracy: 0.7045\n",
      "Epoch 26/30\n",
      "22/22 [==============================] - 0s 5ms/step - loss: 0.3941 - accuracy: 0.9255 - val_loss: 0.5784 - val_accuracy: 0.7159\n",
      "Epoch 27/30\n",
      "22/22 [==============================] - 0s 5ms/step - loss: 0.3671 - accuracy: 0.9542 - val_loss: 0.5747 - val_accuracy: 0.7273\n",
      "Epoch 28/30\n",
      "22/22 [==============================] - 0s 5ms/step - loss: 0.3630 - accuracy: 0.9427 - val_loss: 0.5708 - val_accuracy: 0.7273\n",
      "Epoch 29/30\n",
      "22/22 [==============================] - 0s 5ms/step - loss: 0.3428 - accuracy: 0.9341 - val_loss: 0.5673 - val_accuracy: 0.7273\n",
      "Epoch 30/30\n",
      "22/22 [==============================] - 0s 5ms/step - loss: 0.3174 - accuracy: 0.9542 - val_loss: 0.5636 - val_accuracy: 0.7159\n"
     ]
    }
   ],
   "source": [
    "# Train the model\n",
    "history = ann_model.fit(X_train, y_train, epochs=30, batch_size=16, validation_split=0.2)\n"
   ]
  },
  {
   "cell_type": "code",
   "execution_count": 8,
   "metadata": {},
   "outputs": [
    {
     "name": "stdout",
     "output_type": "stream",
     "text": [
      "4/4 [==============================] - 0s 2ms/step\n"
     ]
    },
    {
     "data": {
      "image/png": "[encoded data removed]",
      "text/plain": [
       "<Figure size 600x600 with 1 Axes>"
      ]
     },
     "metadata": {},
     "output_type": "display_data"
    }
   ],
   "source": [
    "from sklearn.metrics import confusion_matrix\n",
    "import seaborn as sns\n",
    "import matplotlib.pyplot as plt\n",
    "# Make predictions on the test data\n",
    "y_pred_proba = ann_model.predict(X_test)\n",
    "y_pred = (y_pred_proba > 0.5).astype(int).flatten()\n",
    "\n",
    "# Calculate the confusion matrix\n",
    "cm = confusion_matrix(y_test, y_pred)\n",
    "\n",
    "# Visualize the confusion matrix as a heatmap\n",
    "plt.figure(figsize=(6, 6))\n",
    "sns.heatmap(cm, annot=True, fmt='d', cmap='Blues', cbar=False, square=True)\n",
    "plt.xlabel('Predicted Label')\n",
    "plt.ylabel('True Label')\n",
    "plt.title('Confusion Matrix')\n",
    "plt.show()\n"
   ]
  },
  {
   "cell_type": "code",
   "execution_count": 9,
   "metadata": {},
   "outputs": [
    {
     "name": "stdout",
     "output_type": "stream",
     "text": [
      "Sensitivity (Recall): 0.54\n",
      "Precision: 0.67\n",
      "Positive Predictive Value (PPV): 0.67\n",
      "Negative Predictive Value (NPV): 0.79\n"
     ]
    }
   ],
   "source": [
    "# Extract the values from the confusion matrix\n",
    "TN, FP, FN, TP = cm.ravel()\n",
    "\n",
    "# Calculate Sensitivity (Recall)\n",
    "sensitivity = TP / (TP + FN)\n",
    "\n",
    "# Calculate Precision\n",
    "precision = TP / (TP + FP)\n",
    "\n",
    "# Calculate PPV (same as Precision)\n",
    "ppv = precision\n",
    "\n",
    "# Calculate NPV\n",
    "npv = TN / (TN + FN)\n",
    "\n",
    "print(f\"Sensitivity (Recall): {sensitivity:.2f}\")\n",
    "print(f\"Precision: {precision:.2f}\")\n",
    "print(f\"Positive Predictive Value (PPV): {ppv:.2f}\")\n",
    "print(f\"Negative Predictive Value (NPV): {npv:.2f}\")\n"
   ]
  },
  {
   "cell_type": "code",
   "execution_count": 10,
   "metadata": {},
   "outputs": [
    {
     "data": {
      "image/png": "[encoded data removed]",
      "text/plain": [
       "<Figure size 600x600 with 1 Axes>"
      ]
     },
     "metadata": {},
     "output_type": "display_data"
    }
   ],
   "source": [
    "from sklearn.metrics import roc_curve, auc\n",
    "\n",
    "# Calculate the false positive rate (FPR), true positive rate (TPR), and AUC\n",
    "fpr, tpr, thresholds = roc_curve(y_test, y_pred_proba)\n",
    "roc_auc = auc(fpr, tpr)\n",
    "\n",
    "# Plot the ROC curve\n",
    "plt.figure(figsize=(6, 6))\n",
    "plt.plot(fpr, tpr, color='darkorange', lw=2, label=f'ROC curve (AUC = {roc_auc:.2f})')\n",
    "plt.plot([0, 1], [0, 1], color='navy', lw=2, linestyle='--')\n",
    "plt.xlim([0.0, 1.0])\n",
    "plt.ylim([0.0, 1.05])\n",
    "plt.xlabel('False Positive Rate')\n",
    "plt.ylabel('True Positive Rate')\n",
    "plt.title('ROC Curve')\n",
    "plt.legend(loc=\"lower right\")\n",
    "plt.show()\n"
   ]
  }
 ],
 "metadata": {
  "kernelspec": {
   "display_name": "Python 3",
   "language": "python",
   "name": "python3"
  },
  "language_info": {
   "codemirror_mode": {
    "name": "ipython",
    "version": 3
   },
   "file_extension": ".py",
   "mimetype": "text/x-python",
   "name": "python",
   "nbconvert_exporter": "python",
   "pygments_lexer": "ipython3",
   "version": "3.11.2"
  },
  "orig_nbformat": 4
 },
 "nbformat": 4,
 "nbformat_minor": 2
}
